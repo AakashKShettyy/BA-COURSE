{
 "cells": [
  {
   "cell_type": "code",
   "execution_count": 2,
   "id": "580d2473",
   "metadata": {},
   "outputs": [
    {
     "name": "stdout",
     "output_type": "stream",
     "text": [
      "Give you country name:India\n"
     ]
    },
    {
     "data": {
      "text/plain": [
       "'India'"
      ]
     },
     "execution_count": 2,
     "metadata": {},
     "output_type": "execute_result"
    }
   ],
   "source": [
    "input(\"Give you country name:\")"
   ]
  },
  {
   "cell_type": "code",
   "execution_count": 6,
   "id": "3497e321",
   "metadata": {},
   "outputs": [
    {
     "name": "stdout",
     "output_type": "stream",
     "text": [
      "Birth year 2000\n"
     ]
    }
   ],
   "source": [
    "dob=input(\"Birth year\")"
   ]
  },
  {
   "cell_type": "code",
   "execution_count": 8,
   "id": "22dc5ea2",
   "metadata": {},
   "outputs": [
    {
     "name": "stdout",
     "output_type": "stream",
     "text": [
      "your age: 23\n"
     ]
    }
   ],
   "source": [
    "age = 2023 - 2000\n",
    "print(\"your age:\",age)"
   ]
  },
  {
   "cell_type": "code",
   "execution_count": 9,
   "id": "a831ed9a",
   "metadata": {},
   "outputs": [
    {
     "data": {
      "text/plain": [
       "12"
      ]
     },
     "execution_count": 9,
     "metadata": {},
     "output_type": "execute_result"
    }
   ],
   "source": [
    "int(12.3)"
   ]
  },
  {
   "cell_type": "code",
   "execution_count": 11,
   "id": "f8340e17",
   "metadata": {},
   "outputs": [
    {
     "data": {
      "text/plain": [
       "123"
      ]
     },
     "execution_count": 11,
     "metadata": {},
     "output_type": "execute_result"
    }
   ],
   "source": [
    "int(float(123.456))"
   ]
  },
  {
   "cell_type": "code",
   "execution_count": 12,
   "id": "32220394",
   "metadata": {},
   "outputs": [
    {
     "data": {
      "text/plain": [
       "'123'"
      ]
     },
     "execution_count": 12,
     "metadata": {},
     "output_type": "execute_result"
    }
   ],
   "source": [
    "str(123)"
   ]
  },
  {
   "cell_type": "code",
   "execution_count": 13,
   "id": "8ec79734",
   "metadata": {
    "scrolled": true
   },
   "outputs": [
    {
     "name": "stdout",
     "output_type": "stream",
     "text": [
      "7\n",
      "10\n",
      "7\n"
     ]
    }
   ],
   "source": [
    "x = 7\n",
    "print(x)\n",
    "print(x+3)\n",
    "print(x)"
   ]
  },
  {
   "cell_type": "markdown",
   "id": "3a7634e1",
   "metadata": {},
   "source": [
    "In -PLACE OPERATORS"
   ]
  },
  {
   "cell_type": "code",
   "execution_count": 15,
   "id": "1917b583",
   "metadata": {},
   "outputs": [
    {
     "name": "stdout",
     "output_type": "stream",
     "text": [
      "11\n"
     ]
    }
   ],
   "source": [
    "a=9\n",
    "a+=2\n",
    "print(a)"
   ]
  },
  {
   "cell_type": "code",
   "execution_count": 18,
   "id": "297400f2",
   "metadata": {},
   "outputs": [
    {
     "ename": "NameError",
     "evalue": "name 'Languages' is not defined",
     "output_type": "error",
     "traceback": [
      "\u001b[1;31m---------------------------------------------------------------------------\u001b[0m",
      "\u001b[1;31mNameError\u001b[0m                                 Traceback (most recent call last)",
      "Input \u001b[1;32mIn [18]\u001b[0m, in \u001b[0;36m<cell line: 2>\u001b[1;34m()\u001b[0m\n\u001b[0;32m      1\u001b[0m language \u001b[38;5;241m=\u001b[39m\u001b[38;5;124m\"\u001b[39m\u001b[38;5;124mR\u001b[39m\u001b[38;5;124m\"\u001b[39m\n\u001b[1;32m----> 2\u001b[0m Languages\u001b[38;5;241m+\u001b[39m\u001b[38;5;241m=\u001b[39m\u001b[38;5;124m\"\u001b[39m\u001b[38;5;124m+Python\u001b[39m\u001b[38;5;124m\"\u001b[39m\n\u001b[0;32m      3\u001b[0m Language\u001b[38;5;241m+\u001b[39m\u001b[38;5;241m=\u001b[39m\u001b[38;5;124m\"\u001b[39m\u001b[38;5;124mmake our analysis easier\u001b[39m\u001b[38;5;124m\"\u001b[39m\n\u001b[0;32m      4\u001b[0m \u001b[38;5;28mprint\u001b[39m(language)\n",
      "\u001b[1;31mNameError\u001b[0m: name 'Languages' is not defined"
     ]
    }
   ],
   "source": [
    "language =\"R\"\n",
    "Languages+=\"+Python\"\n",
    "Language+=\"make our analysis easier\"\n",
    "print(language)"
   ]
  },
  {
   "cell_type": "code",
   "execution_count": 1,
   "id": "0c0ee049",
   "metadata": {},
   "outputs": [
    {
     "name": "stderr",
     "output_type": "stream",
     "text": [
      "Python was not found; run without arguments to install from the Microsoft Store, or disable this shortcut from Settings > Manage App Execution Aliases.\n"
     ]
    }
   ],
   "source": [
    "!python3 if.py"
   ]
  },
  {
   "cell_type": "code",
   "execution_count": 9,
   "id": "c4ecd9a2-0a3a-470a-b699-e2c44ca06296",
   "metadata": {},
   "outputs": [
    {
     "ename": "IndentationError",
     "evalue": "expected an indented block (2761506787.py, line 3)",
     "output_type": "error",
     "traceback": [
      "\u001b[1;36m  Input \u001b[1;32mIn [9]\u001b[1;36m\u001b[0m\n\u001b[1;33m    else:\u001b[0m\n\u001b[1;37m    ^\u001b[0m\n\u001b[1;31mIndentationError\u001b[0m\u001b[1;31m:\u001b[0m expected an indented block\n"
     ]
    }
   ],
   "source": [
    "num = 7\n",
    "if num == 5:\n",
    "else:\n",
    "    if num == 11:\n",
    "    print(\"number is 11\")    \n",
    "else:\n",
    "    if num == 7:\n",
    "    print(\"number is 7\")\n",
    "else:\n",
    "    print(\"number isn't 5,11 or 7\")"
   ]
  },
  {
   "cell_type": "code",
   "execution_count": 7,
   "id": "a350034e-f40e-4915-9500-d575db4fd9a0",
   "metadata": {},
   "outputs": [
    {
     "data": {
      "text/plain": [
       "False"
      ]
     },
     "execution_count": 7,
     "metadata": {},
     "output_type": "execute_result"
    }
   ],
   "source": [
    "not 1==1"
   ]
  },
  {
   "cell_type": "code",
   "execution_count": 8,
   "id": "b08e9afc",
   "metadata": {},
   "outputs": [
    {
     "data": {
      "text/plain": [
       "True"
      ]
     },
     "execution_count": 8,
     "metadata": {},
     "output_type": "execute_result"
    }
   ],
   "source": [
    "not 1>7"
   ]
  },
  {
   "cell_type": "markdown",
   "id": "2294afc0",
   "metadata": {},
   "source": [
    "# While Loop"
   ]
  },
  {
   "cell_type": "code",
   "execution_count": 10,
   "id": "b209eeab",
   "metadata": {},
   "outputs": [
    {
     "name": "stdout",
     "output_type": "stream",
     "text": [
      "1\n",
      "2\n",
      "3\n",
      "4\n",
      "5\n"
     ]
    }
   ],
   "source": [
    "i = 1\n",
    "while i <=5:\n",
    "    print(i)\n",
    "    i = i + 1"
   ]
  },
  {
   "cell_type": "code",
   "execution_count": null,
   "id": "ec487854",
   "metadata": {},
   "outputs": [],
   "source": []
  },
  {
   "cell_type": "markdown",
   "id": "7fa42658",
   "metadata": {},
   "source": [
    "while condition:\n",
    "    #execute these statements\n",
    "else:\n",
    "    # execute these statements"
   ]
  },
  {
   "cell_type": "code",
   "execution_count": 12,
   "id": "16a85e3b",
   "metadata": {},
   "outputs": [
    {
     "name": "stdout",
     "output_type": "stream",
     "text": [
      "Hello Python\n",
      "Hello Python\n",
      "Hello Python\n",
      "put in else block\n"
     ]
    }
   ],
   "source": [
    "count = 0\n",
    "while (count < 3):\n",
    "     count = count + 1\n",
    "     print(\"Hello Python\")\n",
    "else:\n",
    "    print(\"put in else block\")"
   ]
  },
  {
   "cell_type": "markdown",
   "id": "330fc910",
   "metadata": {},
   "source": [
    "# Infinte Loop"
   ]
  },
  {
   "cell_type": "code",
   "execution_count": 13,
   "id": "7ce9864a",
   "metadata": {},
   "outputs": [
    {
     "name": "stdout",
     "output_type": "stream",
     "text": [
      "0\n",
      "1\n",
      "2\n",
      "3\n"
     ]
    }
   ],
   "source": [
    "n = 4\n",
    "for i in range(0,n):\n",
    "    print(i)"
   ]
  },
  {
   "cell_type": "code",
   "execution_count": 16,
   "id": "ab016ef1",
   "metadata": {},
   "outputs": [
    {
     "name": "stdout",
     "output_type": "stream",
     "text": [
      "the new created array  is :  1 \n",
      "2 \n",
      "3 \n"
     ]
    }
   ],
   "source": [
    "#Python program to demonstrate creation of Array\n",
    "\n",
    "#importing \"array\" for array creations\n",
    "import array as arr\n",
    "\n",
    "#crating an array with integer type\n",
    "a = arr.array('i',{1,2,3})\n",
    "\n",
    "#printing original array\n",
    "print(\"the new created array  is : \", end=\" \")\n",
    "for i  in range(0, 3):\n",
    "    print(a[i],end=\" \")\n",
    "    print()"
   ]
  },
  {
   "cell_type": "code",
   "execution_count": 20,
   "id": "aa5d3d2d",
   "metadata": {},
   "outputs": [
    {
     "name": "stdout",
     "output_type": "stream",
     "text": [
      "\n",
      "The new created array is:  2.5 3.2 3.3 "
     ]
    }
   ],
   "source": [
    "b = arr.array('d',[2.5,3.2,3.3])\n",
    "print(\"\\nThe new created array is: \", end=\" \")\n",
    "for i in range (0,3):\n",
    "    print(b[i], end=\" \")"
   ]
  },
  {
   "cell_type": "markdown",
   "id": "b8f8b2c5",
   "metadata": {},
   "source": [
    "# ADDING ELEMENT TO  ARRAY"
   ]
  },
  {
   "cell_type": "code",
   "execution_count": 25,
   "id": "7259e8e2",
   "metadata": {},
   "outputs": [
    {
     "name": "stdout",
     "output_type": "stream",
     "text": [
      "array('i', [1, 4, 4, 4, 4, 4, 2, 3])\n"
     ]
    }
   ],
   "source": [
    "a.insert(1,4)\n",
    "print(a)\n"
   ]
  },
  {
   "cell_type": "code",
   "execution_count": 27,
   "id": "655b0b4c",
   "metadata": {},
   "outputs": [
    {
     "ename": "TypeError",
     "evalue": "array.append() takes exactly one argument (2 given)",
     "output_type": "error",
     "traceback": [
      "\u001b[1;31m---------------------------------------------------------------------------\u001b[0m",
      "\u001b[1;31mTypeError\u001b[0m                                 Traceback (most recent call last)",
      "Input \u001b[1;32mIn [27]\u001b[0m, in \u001b[0;36m<cell line: 1>\u001b[1;34m()\u001b[0m\n\u001b[1;32m----> 1\u001b[0m \u001b[43mb\u001b[49m\u001b[38;5;241;43m.\u001b[39;49m\u001b[43mappend\u001b[49m\u001b[43m(\u001b[49m\u001b[38;5;241;43m4\u001b[39;49m\u001b[43m,\u001b[49m\u001b[38;5;241;43m4\u001b[39;49m\u001b[43m)\u001b[49m\n",
      "\u001b[1;31mTypeError\u001b[0m: array.append() takes exactly one argument (2 given)"
     ]
    }
   ],
   "source": [
    "b.append(4,4)"
   ]
  },
  {
   "cell_type": "code",
   "execution_count": 28,
   "id": "f65e9290",
   "metadata": {},
   "outputs": [
    {
     "name": "stdout",
     "output_type": "stream",
     "text": [
      "array('d', [2.5, 3.2, 3.3])\n"
     ]
    }
   ],
   "source": [
    "print(b)"
   ]
  },
  {
   "cell_type": "markdown",
   "id": "6babfb77",
   "metadata": {},
   "source": [
    "# List"
   ]
  },
  {
   "cell_type": "code",
   "execution_count": 39,
   "id": "c49a9571",
   "metadata": {},
   "outputs": [],
   "source": [
    "List = [1,2,3,\"ABC\",2.3]"
   ]
  },
  {
   "cell_type": "code",
   "execution_count": 42,
   "id": "f254de2d",
   "metadata": {},
   "outputs": [
    {
     "name": "stdout",
     "output_type": "stream",
     "text": [
      "[1, 2, 3, 'ABC', 2.3]\n"
     ]
    }
   ],
   "source": [
    "print(list)"
   ]
  },
  {
   "cell_type": "markdown",
   "id": "742ab1b3",
   "metadata": {},
   "source": [
    "# Multi dimensional List"
   ]
  },
  {
   "cell_type": "code",
   "execution_count": 43,
   "id": "567555ad",
   "metadata": {},
   "outputs": [
    {
     "name": "stdout",
     "output_type": "stream",
     "text": [
      "\n",
      "Multi-Dimensional List: \n",
      "[['Python', 'For'], ['Analytics']]\n"
     ]
    }
   ],
   "source": [
    "List2 = [['Python','For'],['Analytics']]\n",
    "print(\"\\nMulti-Dimensional List: \")\n",
    "print(List2)"
   ]
  },
  {
   "cell_type": "markdown",
   "id": "013a24d2",
   "metadata": {},
   "source": [
    "# Accessing an element from the list using the index number\n"
   ]
  },
  {
   "cell_type": "code",
   "execution_count": 3,
   "id": "ffa8d434",
   "metadata": {},
   "outputs": [
    {
     "name": "stdout",
     "output_type": "stream",
     "text": [
      "Accessing  element from the list:\n"
     ]
    },
    {
     "data": {
      "text/plain": [
       "<function print>"
      ]
     },
     "execution_count": 3,
     "metadata": {},
     "output_type": "execute_result"
    }
   ],
   "source": [
    "print(\"Accessing  element from the list:\")\n",
    "print"
   ]
  },
  {
   "cell_type": "markdown",
   "id": "d460f10a-f55d-4fbe-8e17-7887a2ee95ea",
   "metadata": {},
   "source": [
    "# LEARNING DATA STRUCTURE  WITH PYTHON"
   ]
  },
  {
   "cell_type": "markdown",
   "id": "393421ab-a861-4927-a50d-aa9859445b72",
   "metadata": {},
   "source": [
    "ARRAY"
   ]
  },
  {
   "cell_type": "code",
   "execution_count": 5,
   "id": "197ced7b",
   "metadata": {},
   "outputs": [],
   "source": [
    "import array as arr"
   ]
  },
  {
   "cell_type": "code",
   "execution_count": 7,
   "id": "1ae20e59-d08a-45f9-906e-05c1ca48d994",
   "metadata": {},
   "outputs": [],
   "source": [
    "a = arr.array('i',[1,2,3])"
   ]
  },
  {
   "cell_type": "code",
   "execution_count": 21,
   "id": "604f7f0a-cb16-4dbe-b309-f21c82f6078c",
   "metadata": {},
   "outputs": [
    {
     "name": "stdout",
     "output_type": "stream",
     "text": [
      "The new created array is: 1 4 2 \n"
     ]
    }
   ],
   "source": [
    "print(\"The new created array is:\", end=\" \")\n",
    "for i in range (0,3):\n",
    "     print(a[i],end=\" \")\n",
    "print()"
   ]
  },
  {
   "cell_type": "code",
   "execution_count": 13,
   "id": "ef4d12fc-779e-4608-892a-46d1beb3bd78",
   "metadata": {},
   "outputs": [],
   "source": [
    "b = arr.array('d',[2.5,3.2,3.3])\n"
   ]
  },
  {
   "cell_type": "code",
   "execution_count": 17,
   "id": "9634a156-5042-47ec-b673-d3a93ba11580",
   "metadata": {},
   "outputs": [
    {
     "name": "stdout",
     "output_type": "stream",
     "text": [
      "\n",
      "The new created array is  2.5 3.2 3.3 "
     ]
    }
   ],
   "source": [
    "print(\"\\nThe new created array is \",end=\" \")\n",
    "for i in range(0,3):\n",
    "    print(b[i], end=\" \")"
   ]
  },
  {
   "cell_type": "code",
   "execution_count": 22,
   "id": "c4323f69-26b6-4f85-b5b6-fbdb578e6fde",
   "metadata": {},
   "outputs": [
    {
     "name": "stdout",
     "output_type": "stream",
     "text": [
      "Array after insertion: 1 4 2 3 \n"
     ]
    }
   ],
   "source": [
    "print(\"Array after insertion:\", end=\" \")\n",
    "for i in  (a):\n",
    "     print(i,end=\" \")\n",
    "print()"
   ]
  },
  {
   "cell_type": "code",
   "execution_count": 19,
   "id": "9f2db21f-625f-49e8-a0ee-a358b4bcecdd",
   "metadata": {},
   "outputs": [],
   "source": [
    "a.insert(1,4)\n"
   ]
  },
  {
   "cell_type": "code",
   "execution_count": 20,
   "id": "d3c020d0-2010-4789-a9b1-dbd17480e6d0",
   "metadata": {},
   "outputs": [
    {
     "name": "stdout",
     "output_type": "stream",
     "text": [
      "Array after insertion: 1 4 2 3 \n"
     ]
    }
   ],
   "source": [
    "print(\"Array after insertion:\", end=\" \")\n",
    "for i in  (a):\n",
    "     print(i,end=\" \")\n",
    "print()"
   ]
  },
  {
   "cell_type": "code",
   "execution_count": 25,
   "id": "d7613955-33ff-4b2b-83da-ea2082c32168",
   "metadata": {},
   "outputs": [],
   "source": [
    "b.append(4.4)"
   ]
  },
  {
   "cell_type": "code",
   "execution_count": 26,
   "id": "f6cc59ee-c015-4f5d-9aff-19c7b18416ca",
   "metadata": {},
   "outputs": [
    {
     "name": "stdout",
     "output_type": "stream",
     "text": [
      "Array after insertion: 2.5 3.2 3.3 4.4 \n"
     ]
    }
   ],
   "source": [
    "print(\"Array after insertion:\", end=\" \")\n",
    "for i in  (b):\n",
    "     print(i,end=\" \")\n",
    "print()"
   ]
  },
  {
   "cell_type": "markdown",
   "id": "be5157ca-9502-4b27-b5aa-6b9b6211b36a",
   "metadata": {},
   "source": [
    "# ACCESSING THE ELEMENT"
   ]
  },
  {
   "cell_type": "code",
   "execution_count": 27,
   "id": "9fa925cd-eff9-47cd-801c-de91e267f4cd",
   "metadata": {},
   "outputs": [],
   "source": [
    "import array as arr"
   ]
  },
  {
   "cell_type": "code",
   "execution_count": 28,
   "id": "9e67be42-2e59-4c60-b21b-a2d57269239f",
   "metadata": {},
   "outputs": [],
   "source": [
    "a= arr.array('i',[1,2,3,4,5,6])"
   ]
  },
  {
   "cell_type": "code",
   "execution_count": 29,
   "id": "498bb9c7-c8aa-4851-b396-948774a582b2",
   "metadata": {},
   "outputs": [
    {
     "name": "stdout",
     "output_type": "stream",
     "text": [
      "Access element is: 1\n"
     ]
    }
   ],
   "source": [
    "print(\"Access element is:\",a[0])"
   ]
  },
  {
   "cell_type": "code",
   "execution_count": 30,
   "id": "8da1b1bc-0ceb-4333-9785-5333208b22f1",
   "metadata": {},
   "outputs": [
    {
     "name": "stdout",
     "output_type": "stream",
     "text": [
      "Access element is: 4\n"
     ]
    }
   ],
   "source": [
    "print(\"Access element is:\",a[3])"
   ]
  },
  {
   "cell_type": "markdown",
   "id": "24311261-9d60-4f2b-8751-d9633a1b40e6",
   "metadata": {},
   "source": [
    "# REMOVING ELEMENTS FROM  ARRAY"
   ]
  },
  {
   "cell_type": "code",
   "execution_count": 31,
   "id": "07f9766b-a0ba-4df7-9c96-5b782fb4e65e",
   "metadata": {},
   "outputs": [],
   "source": [
    "import array"
   ]
  },
  {
   "cell_type": "code",
   "execution_count": 32,
   "id": "f79da554-3e21-47cf-a1e7-8dbec804b60d",
   "metadata": {},
   "outputs": [],
   "source": [
    "arr= array.array('i',[1,2,3,1,5])"
   ]
  },
  {
   "cell_type": "code",
   "execution_count": 33,
   "id": "a3b86fbe-b8de-4bb6-8db7-e6266ed760a1",
   "metadata": {},
   "outputs": [
    {
     "name": "stdout",
     "output_type": "stream",
     "text": [
      "The new created array is : 1 2 3 1 5 "
     ]
    }
   ],
   "source": [
    "print(\"The new created array is :\",end=\" \")\n",
    "for i in range(0,5):\n",
    "    print(arr[i],end=\" \")"
   ]
  },
  {
   "cell_type": "markdown",
   "id": "b78cf50b-7443-473d-9550-39b9f230ae4e",
   "metadata": {},
   "source": [
    "# ARRAY REMOVAL BY USING POP FUNCTION"
   ]
  },
  {
   "cell_type": "code",
   "execution_count": 36,
   "id": "054ed618-c5de-401a-a223-eb8a8ece5ae0",
   "metadata": {},
   "outputs": [
    {
     "name": "stdout",
     "output_type": "stream",
     "text": [
      "The popped element is : 3\n"
     ]
    }
   ],
   "source": [
    "print(\"The popped element is :\",end=\" \")\n",
    "print(arr.pop(2))"
   ]
  },
  {
   "cell_type": "code",
   "execution_count": 38,
   "id": "e9a188d0-66d6-4474-bdb4-e7718342feba",
   "metadata": {},
   "outputs": [
    {
     "name": "stdout",
     "output_type": "stream",
     "text": [
      "The popped element is : 1 2 1 5 \n"
     ]
    }
   ],
   "source": [
    "print(\"The popped element is :\",end=\" \")\n",
    "for i in range(0,4):\n",
    "    print(arr[i],end=\" \")\n",
    "print(\"\\r\")"
   ]
  },
  {
   "cell_type": "markdown",
   "id": "7a816e94-d160-492c-8dba-680a6c325568",
   "metadata": {},
   "source": [
    "# REMOVE FUNCTION"
   ]
  },
  {
   "cell_type": "code",
   "execution_count": 39,
   "id": "ea72676a-274d-4f87-8ea1-e72bd179dac3",
   "metadata": {},
   "outputs": [],
   "source": [
    "arr.remove(1)"
   ]
  },
  {
   "cell_type": "code",
   "execution_count": 40,
   "id": "bb96e111-d7e7-4ef4-87a1-81fba67ee86c",
   "metadata": {},
   "outputs": [
    {
     "name": "stdout",
     "output_type": "stream",
     "text": [
      "The array after removing  is : 2 1 5 "
     ]
    }
   ],
   "source": [
    "print(\"The array after removing  is :\",end=\" \")\n",
    "for i in range(0,3):\n",
    "    print(arr[i],end=\" \")"
   ]
  },
  {
   "cell_type": "markdown",
   "id": "10569700",
   "metadata": {},
   "source": [
    "# LIST"
   ]
  },
  {
   "cell_type": "code",
   "execution_count": 41,
   "id": "eb1c0ed4",
   "metadata": {},
   "outputs": [
    {
     "name": "stdout",
     "output_type": "stream",
     "text": [
      "[1, 2, 3, 'ABC', 2.3]\n"
     ]
    },
    {
     "data": {
      "text/plain": [
       "type"
      ]
     },
     "execution_count": 41,
     "metadata": {},
     "output_type": "execute_result"
    }
   ],
   "source": [
    "List = [1,2,3,\"ABC\",2.3]\n",
    "print(List)\n",
    "type(list)"
   ]
  },
  {
   "cell_type": "code",
   "execution_count": 42,
   "id": "78baaec5",
   "metadata": {},
   "outputs": [
    {
     "data": {
      "text/plain": [
       "'ABC'"
      ]
     },
     "execution_count": 42,
     "metadata": {},
     "output_type": "execute_result"
    }
   ],
   "source": [
    "List[3]"
   ]
  },
  {
   "cell_type": "code",
   "execution_count": 44,
   "id": "06c96d77",
   "metadata": {},
   "outputs": [
    {
     "data": {
      "text/plain": [
       "[1, 2]"
      ]
     },
     "execution_count": 44,
     "metadata": {},
     "output_type": "execute_result"
    }
   ],
   "source": [
    "List[0:2]"
   ]
  },
  {
   "cell_type": "code",
   "execution_count": 45,
   "id": "565d3358",
   "metadata": {},
   "outputs": [
    {
     "data": {
      "text/plain": [
       "[1, 2, 3, 'ABC']"
      ]
     },
     "execution_count": 45,
     "metadata": {},
     "output_type": "execute_result"
    }
   ],
   "source": [
    "List[0:4]"
   ]
  },
  {
   "cell_type": "markdown",
   "id": "2c3af3fe",
   "metadata": {},
   "source": [
    "# creating list with multiple values"
   ]
  },
  {
   "cell_type": "code",
   "execution_count": 49,
   "id": "5af1725a",
   "metadata": {},
   "outputs": [
    {
     "name": "stdout",
     "output_type": "stream",
     "text": [
      "\n",
      "List containing multiple values: \n",
      "\n",
      " ['Python', 'For', 'Analytics']\n"
     ]
    }
   ],
   "source": [
    "List = [\"Python\",\"For\",\"Analytics\"]\n",
    "print(\"\\nList containing multiple values: \")\n",
    "print(\"\\n\",List)"
   ]
  },
  {
   "cell_type": "markdown",
   "id": "3b2bf8de",
   "metadata": {},
   "source": [
    "# MULTI-DIMENSIONAL LIST"
   ]
  },
  {
   "cell_type": "code",
   "execution_count": 51,
   "id": "dd582725",
   "metadata": {},
   "outputs": [
    {
     "name": "stdout",
     "output_type": "stream",
     "text": [
      "\n",
      "Multi-Dimensional List: \n",
      "[['Python', 'For'], ['Analytics']]\n"
     ]
    }
   ],
   "source": [
    "List2 = [['Python','For'],['Analytics']]\n",
    "print(\"\\nMulti-Dimensional List: \")\n",
    "print(List2)"
   ]
  },
  {
   "cell_type": "markdown",
   "id": "702fb31b",
   "metadata": {},
   "source": [
    "# ACCESSING AN ELEMENT FROM THE LIST USING INDEX NUMBER"
   ]
  },
  {
   "cell_type": "code",
   "execution_count": 53,
   "id": "c0bd6396",
   "metadata": {},
   "outputs": [
    {
     "name": "stdout",
     "output_type": "stream",
     "text": [
      "Accessing element from the list:\n",
      "Python\n",
      "Analytics\n"
     ]
    }
   ],
   "source": [
    "print(\"Accessing element from the list:\")\n",
    "print(List[0])\n",
    "print(List[2])"
   ]
  },
  {
   "cell_type": "markdown",
   "id": "3b6ff5d6",
   "metadata": {},
   "source": [
    "# CREATING THE SIZE OF PYTHON LIST"
   ]
  },
  {
   "cell_type": "code",
   "execution_count": 58,
   "id": "3575c1d0",
   "metadata": {},
   "outputs": [
    {
     "name": "stdout",
     "output_type": "stream",
     "text": [
      "0\n"
     ]
    }
   ],
   "source": [
    "List1 = []\n",
    "print(len(List1))"
   ]
  },
  {
   "cell_type": "code",
   "execution_count": 59,
   "id": "88672cf7",
   "metadata": {},
   "outputs": [
    {
     "name": "stdout",
     "output_type": "stream",
     "text": [
      "Enter elements (space-separated): Aakash,Raghav,Rahul\n"
     ]
    }
   ],
   "source": [
    "string = input(\"Enter elements (space-separated): \")"
   ]
  },
  {
   "cell_type": "code",
   "execution_count": 63,
   "id": "e89d7cff",
   "metadata": {},
   "outputs": [
    {
     "name": "stdout",
     "output_type": "stream",
     "text": [
      "The list is : ['Aakash,Raghav,Rahul']\n"
     ]
    }
   ],
   "source": [
    "lst = string.split()\n",
    "print('The list is :', lst)"
   ]
  },
  {
   "cell_type": "code",
   "execution_count": 67,
   "id": "739632e4",
   "metadata": {},
   "outputs": [
    {
     "name": "stdout",
     "output_type": "stream",
     "text": [
      "Initial blank List: \n",
      "[]\n"
     ]
    }
   ],
   "source": [
    "List=[]\n",
    "print(\"Initial blank List: \")\n",
    "print(List)"
   ]
  },
  {
   "cell_type": "code",
   "execution_count": 65,
   "id": "a3f13dba",
   "metadata": {},
   "outputs": [
    {
     "name": "stdout",
     "output_type": "stream",
     "text": [
      "\n",
      "List after addition of three elements:\n",
      "[1, 2, 4]\n"
     ]
    }
   ],
   "source": [
    "List.append(1)\n",
    "List.append(2)\n",
    "List.append(4)\n",
    "print(\"\\nList after addition of three elements:\")\n",
    "print(List)"
   ]
  },
  {
   "cell_type": "code",
   "execution_count": 68,
   "id": "75c4fe43",
   "metadata": {},
   "outputs": [
    {
     "name": "stdout",
     "output_type": "stream",
     "text": [
      "Initial List: \n",
      "[1, 2, 3, 4]\n"
     ]
    }
   ],
   "source": [
    "List = [1,2,3,4]\n",
    "print(\"Initial List: \")\n",
    "print(List)"
   ]
  },
  {
   "cell_type": "code",
   "execution_count": 69,
   "id": "1bbd767c",
   "metadata": {},
   "outputs": [
    {
     "name": "stdout",
     "output_type": "stream",
     "text": [
      "\n",
      "List after performing insert opertion: \n",
      "['Python for Analytics', 1, 2, 3, 100, 4]\n"
     ]
    }
   ],
   "source": [
    "List.insert(3,100)\n",
    "List.insert(0,'Python for Analytics')\n",
    "print(\"\\nList after performing insert opertion: \")\n",
    "print(List)"
   ]
  },
  {
   "cell_type": "code",
   "execution_count": 70,
   "id": "3b9d2b17",
   "metadata": {},
   "outputs": [
    {
     "name": "stdout",
     "output_type": "stream",
     "text": [
      "{1: 'Python', 2: 'For', 3: 'Ana;ytics'}\n"
     ]
    }
   ],
   "source": [
    "Dict = {1:'Python',2: 'For',3:'Ana;ytics'}\n",
    "print(Dict)"
   ]
  },
  {
   "cell_type": "code",
   "execution_count": 71,
   "id": "78d00048-30ea-46f2-a65c-69e0ef758ba7",
   "metadata": {},
   "outputs": [
    {
     "name": "stdout",
     "output_type": "stream",
     "text": [
      "\n",
      "Dictionery with use of integer keys: \n",
      "{1: 'Python', 2: 'For', 3: 'Ana;ytics'}\n"
     ]
    }
   ],
   "source": [
    "Dict = {1:'Python',2: 'For',3:'Ana;ytics'}\n",
    "print(\"\\nDictionery with use of integer keys: \")\n",
    "print(Dict)"
   ]
  },
  {
   "cell_type": "code",
   "execution_count": 73,
   "id": "150bbb5d-5645-4e4e-b6ba-388b08a4a776",
   "metadata": {},
   "outputs": [
    {
     "name": "stdout",
     "output_type": "stream",
     "text": [
      "\n",
      "Dictionery with the use of mixed keys: \n",
      "{'Name': 'Python', 1: [1, 2, 3, 4]}\n"
     ]
    }
   ],
   "source": [
    "Dict = {'Name':'Python',1:[1,2,3,4]}\n",
    "print(\"\\nDictionery with the use of mixed keys: \")\n",
    "print(Dict)"
   ]
  },
  {
   "cell_type": "code",
   "execution_count": 2,
   "id": "40f5b5e5-9491-4e59-820e-920077056080",
   "metadata": {},
   "outputs": [
    {
     "name": "stdout",
     "output_type": "stream",
     "text": [
      "{1: 'Python', 2: 'For', 3: 'Ana;ytics'}\n"
     ]
    }
   ],
   "source": [
    "Dict = {1:'Python',2:'For',3:'Ana;ytics'}\n",
    "print(Dict)"
   ]
  },
  {
   "cell_type": "code",
   "execution_count": 3,
   "id": "1352e7eb",
   "metadata": {},
   "outputs": [
    {
     "data": {
      "text/plain": [
       "{1: 'Python', 2: 'For', 3: 'Ana;ytics'}"
      ]
     },
     "execution_count": 3,
     "metadata": {},
     "output_type": "execute_result"
    }
   ],
   "source": [
    "Dict"
   ]
  },
  {
   "cell_type": "markdown",
   "id": "7d50bc44",
   "metadata": {},
   "source": [
    "# CREATING DICTIONERY"
   ]
  },
  {
   "cell_type": "code",
   "execution_count": 5,
   "id": "769df7ee",
   "metadata": {},
   "outputs": [
    {
     "name": "stdout",
     "output_type": "stream",
     "text": [
      "\n",
      "Dictionery with the use of Mixed Keys:\n",
      "{'Name': 'Python', 1: [1, 2, 3, 4]}\n"
     ]
    }
   ],
   "source": [
    "Dict = {'Name': 'Python',1:[1,2,3,4]}\n",
    "print(\"\\nDictionery with the use of Mixed Keys:\")\n",
    "print(Dict)"
   ]
  },
  {
   "cell_type": "code",
   "execution_count": 10,
   "id": "fde41aa7",
   "metadata": {},
   "outputs": [
    {
     "name": "stdout",
     "output_type": "stream",
     "text": [
      "{1: 'Python', 2: 'For', 3: 'Anaytics', 4: {'A': 'Welcome', 'B': 'To  create Dictionery', 'C': 'Python'}}\n"
     ]
    }
   ],
   "source": [
    "Dict = {1:'Python',2:'For',3:'Anaytics',4 : {'A':'Welcome','B':'To  create Dictionery','C':'Python'}}\n",
    "print(Dict)"
   ]
  },
  {
   "cell_type": "code",
   "execution_count": 11,
   "id": "cfcace8f",
   "metadata": {},
   "outputs": [],
   "source": [
    "Dict={}"
   ]
  },
  {
   "cell_type": "code",
   "execution_count": 12,
   "id": "fc5ffa53",
   "metadata": {},
   "outputs": [
    {
     "name": "stdout",
     "output_type": "stream",
     "text": [
      "Empty Dictionery: \n",
      "{}\n"
     ]
    }
   ],
   "source": [
    "print(\"Empty Dictionery: \")\n",
    "print(Dict)"
   ]
  },
  {
   "cell_type": "code",
   "execution_count": 13,
   "id": "a572e0c1",
   "metadata": {},
   "outputs": [
    {
     "name": "stdout",
     "output_type": "stream",
     "text": [
      "\n",
      "DIctionery after adding 3 elements:\n",
      "{0: 'Python', 1: 'For', 2: 'Anaytics'}\n"
     ]
    }
   ],
   "source": [
    "Dict[0] = 'Python'\n",
    "Dict[1] = 'For'\n",
    "Dict[2] = 'Anaytics'\n",
    "print(\"\\nDIctionery after adding 3 elements:\")\n",
    "print(Dict)"
   ]
  },
  {
   "cell_type": "code",
   "execution_count": 14,
   "id": "5c0975f4",
   "metadata": {},
   "outputs": [
    {
     "name": "stdout",
     "output_type": "stream",
     "text": [
      "\n",
      "DIctionery after adding 3 elements:\n",
      "{0: 'Python', 1: 'For', 2: 'Anaytics', 'value_set': (2, 3, 4)}\n"
     ]
    }
   ],
   "source": [
    "Dict['value_set']=2,3,4\n",
    "print(\"\\nDIctionery after adding 3 elements:\")\n",
    "print(Dict)"
   ]
  },
  {
   "cell_type": "code",
   "execution_count": 16,
   "id": "ada6fe59",
   "metadata": {},
   "outputs": [
    {
     "name": "stdout",
     "output_type": "stream",
     "text": [
      "\n",
      "updated key value:\n",
      "{0: 'Python', 1: 'For', 2: 'Anaytics', 'value_set': (2, 3, 4), 3: 'Welcome to Python Sessoions'}\n"
     ]
    }
   ],
   "source": [
    "Dict[3] = 'Welcome to Python Sessoions'\n",
    "print(\"\\nupdated key value:\")\n",
    "print(Dict)"
   ]
  },
  {
   "cell_type": "code",
   "execution_count": 18,
   "id": "da8d0522",
   "metadata": {},
   "outputs": [
    {
     "name": "stdout",
     "output_type": "stream",
     "text": [
      "\n",
      "Adding a Nested key:\n",
      "{0: 'Python', 1: 'For', 2: 'Anaytics', 'value_set': (2, 3, 4), 3: 'Welcome to Python Sessoions', 5: {'Nested': {'1': 'Smart', '2': 'Analytics'}}}\n"
     ]
    }
   ],
   "source": [
    "Dict[5] = {'Nested': {'1':'Smart','2':'Analytics'}}\n",
    "print(\"\\nAdding a Nested key:\")\n",
    "print(Dict)"
   ]
  },
  {
   "cell_type": "code",
   "execution_count": 19,
   "id": "c6a3deda",
   "metadata": {},
   "outputs": [],
   "source": [
    "Dict = {1:'Python',2:'For',3:'Anlaytics','Keyname':'Smart Analytics'}\n"
   ]
  },
  {
   "cell_type": "code",
   "execution_count": 21,
   "id": "78b9b263",
   "metadata": {},
   "outputs": [
    {
     "name": "stdout",
     "output_type": "stream",
     "text": [
      "Accessig a element using the key name:\n",
      "Smart Analytics\n"
     ]
    }
   ],
   "source": [
    "print(\"Accessig a element using the key name:\")\n",
    "print(Dict['Keyname'])"
   ]
  },
  {
   "cell_type": "code",
   "execution_count": 23,
   "id": "a01f1f78",
   "metadata": {},
   "outputs": [
    {
     "name": "stdout",
     "output_type": "stream",
     "text": [
      "Accessig a element using get:\n",
      "Python\n"
     ]
    }
   ],
   "source": [
    "print(\"Accessig a element using get:\")\n",
    "print(Dict[1])"
   ]
  },
  {
   "cell_type": "code",
   "execution_count": 22,
   "id": "59b43950",
   "metadata": {},
   "outputs": [
    {
     "name": "stdout",
     "output_type": "stream",
     "text": [
      "Accessig a element using get:\n",
      "Anlaytics\n"
     ]
    }
   ],
   "source": [
    "print(\"Accessig a element using get:\")\n",
    "print(Dict.get(3))"
   ]
  },
  {
   "cell_type": "markdown",
   "id": "dc08dec7",
   "metadata": {},
   "source": [
    "# ACCESSING AN ELEMENT OF A NESTED DICTIONERY"
   ]
  },
  {
   "cell_type": "code",
   "execution_count": 24,
   "id": "8e1deef7",
   "metadata": {},
   "outputs": [],
   "source": [
    "Dict ={'Dict1': {1:'Python'},'Dict2':{'Name':'For'},'Dict3':{2:'Anaytics'}}"
   ]
  },
  {
   "cell_type": "code",
   "execution_count": 25,
   "id": "4592dd99",
   "metadata": {},
   "outputs": [
    {
     "name": "stdout",
     "output_type": "stream",
     "text": [
      "{1: 'Python'}\n",
      "Python\n",
      "For\n",
      "Anaytics\n"
     ]
    }
   ],
   "source": [
    "print(Dict['Dict1'])\n",
    "print(Dict['Dict1'][1])\n",
    "print(Dict['Dict2']['Name'])\n",
    "print(Dict['Dict3'][2])"
   ]
  },
  {
   "cell_type": "code",
   "execution_count": null,
   "id": "3f4695cd",
   "metadata": {},
   "outputs": [],
   "source": [
    "# Dict = {1:'Python','name':'For',3:'Analytics'}\n",
    "print(\"Dictionery=\")\n",
    "print(Dict)"
   ]
  },
  {
   "cell_type": "code",
   "execution_count": 27,
   "id": "4face55e",
   "metadata": {},
   "outputs": [
    {
     "name": "stdout",
     "output_type": "stream",
     "text": [
      "Data after deletion Dictionary=\n",
      "{'name': 'For', 3: 'Analytics'}\n"
     ]
    }
   ],
   "source": [
    "del(Dict[1])\n",
    "print(\"Data after deletion Dictionary=\")\n",
    "print(Dict)"
   ]
  },
  {
   "cell_type": "markdown",
   "id": "671f1acc",
   "metadata": {},
   "source": [
    "# CREATING TUPLE"
   ]
  },
  {
   "cell_type": "code",
   "execution_count": 29,
   "id": "0107968b",
   "metadata": {},
   "outputs": [
    {
     "name": "stdout",
     "output_type": "stream",
     "text": [
      "('Python', 'For', 'Analytics')\n"
     ]
    }
   ],
   "source": [
    "var = (\"Python\",\"For\",\"Analytics\")\n",
    "print(var)"
   ]
  },
  {
   "cell_type": "code",
   "execution_count": 30,
   "id": "f1ffe689",
   "metadata": {},
   "outputs": [
    {
     "data": {
      "text/plain": [
       "tuple"
      ]
     },
     "execution_count": 30,
     "metadata": {},
     "output_type": "execute_result"
    }
   ],
   "source": [
    "type(var)"
   ]
  },
  {
   "cell_type": "code",
   "execution_count": 50,
   "id": "97706ee6",
   "metadata": {},
   "outputs": [
    {
     "name": "stdout",
     "output_type": "stream",
     "text": [
      "(1, 2, 4, 'Python For Analytics')\n"
     ]
    }
   ],
   "source": [
    "from typing import Tuple, Union\n",
    "values: Tuple[Union[int, str], ...] = (1, 2, 4, \"Python For Analytics\")\n",
    "print(values)\n"
   ]
  },
  {
   "cell_type": "code",
   "execution_count": 37,
   "id": "9fe1b1f2",
   "metadata": {},
   "outputs": [
    {
     "name": "stdout",
     "output_type": "stream",
     "text": [
      "('Python for Analytics',)\n"
     ]
    }
   ],
   "source": [
    "mytuple = (\"Python for Analytics\",)\n",
    "print(mytuple)"
   ]
  },
  {
   "cell_type": "code",
   "execution_count": 48,
   "id": "d3d7f1f4",
   "metadata": {
    "tags": []
   },
   "outputs": [
    {
     "name": "stdout",
     "output_type": "stream",
     "text": [
      "<class 'tuple'>\n"
     ]
    }
   ],
   "source": [
    "mytuple = (\"Python for Analytics\",)\n",
    "print(type(mytuple))\n"
   ]
  },
  {
   "cell_type": "code",
   "execution_count": null,
   "id": "da1ce0a8-ffcb-4ac3-80ec-bca8ee79becb",
   "metadata": {},
   "outputs": [],
   "source": []
  },
  {
   "cell_type": "code",
   "execution_count": null,
   "id": "32fe7ed5-5c79-4e2c-b685-5a62cf038355",
   "metadata": {},
   "outputs": [],
   "source": []
  },
  {
   "cell_type": "code",
   "execution_count": null,
   "id": "68a9cb1c-d196-4336-b4c8-ced491cb23cb",
   "metadata": {},
   "outputs": [],
   "source": []
  },
  {
   "cell_type": "code",
   "execution_count": null,
   "id": "d3a813ec-2861-428d-8f2f-c3bb1acf995c",
   "metadata": {},
   "outputs": [],
   "source": []
  },
  {
   "cell_type": "code",
   "execution_count": null,
   "id": "1876e60e-f3c7-4432-82b5-1934cc80d8f6",
   "metadata": {},
   "outputs": [],
   "source": []
  },
  {
   "cell_type": "code",
   "execution_count": null,
   "id": "c8726075-2afe-4566-aa2e-a4c73a71c919",
   "metadata": {},
   "outputs": [],
   "source": []
  },
  {
   "cell_type": "code",
   "execution_count": null,
   "id": "678882e3-e8e1-4976-aff5-df5c9f6f0929",
   "metadata": {},
   "outputs": [],
   "source": []
  },
  {
   "cell_type": "code",
   "execution_count": null,
   "id": "a3ff4b08-424c-41ba-842d-bd5511a22d1d",
   "metadata": {},
   "outputs": [],
   "source": []
  }
 ],
 "metadata": {
  "kernelspec": {
   "display_name": "Python 3 (ipykernel)",
   "language": "python",
   "name": "python3"
  },
  "language_info": {
   "codemirror_mode": {
    "name": "ipython",
    "version": 3
   },
   "file_extension": ".py",
   "mimetype": "text/x-python",
   "name": "python",
   "nbconvert_exporter": "python",
   "pygments_lexer": "ipython3",
   "version": "3.9.12"
  },
  "toc": {
   "base_numbering": 1,
   "nav_menu": {},
   "number_sections": true,
   "sideBar": true,
   "skip_h1_title": false,
   "title_cell": "Table of Contents",
   "title_sidebar": "Contents",
   "toc_cell": false,
   "toc_position": {},
   "toc_section_display": true,
   "toc_window_display": false
  }
 },
 "nbformat": 4,
 "nbformat_minor": 5
}
